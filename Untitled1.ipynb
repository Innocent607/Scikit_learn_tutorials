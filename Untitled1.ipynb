{
 "cells": [
  {
   "cell_type": "code",
   "execution_count": 12,
   "metadata": {
    "collapsed": false
   },
   "outputs": [
    {
     "data": {
      "text/plain": [
       "'\\n     def load_neural_data(path=csv_path):\\n    \\'\\'\\'Returns the pandas dataframe\\'\\'\\'\\n\\n    if os.path.exists(csv_path) == True:\\n        return pd.read_csv(csv_path)\\n\\n    else:\\n        print(\"No file to read from\")   \\n'"
      ]
     },
     "execution_count": 12,
     "metadata": {},
     "output_type": "execute_result"
    }
   ],
   "source": [
    "from urllib import request\n",
    "import urllib.request\n",
    "import os\n",
    "\n",
    "class Neural_Data(object):\n",
    "\n",
    "    def __init__(self, *html):\n",
    "\n",
    "        go_to = \"https://github.com/quantamc/SMaRT-LAB/blob/master/rawdata/emo_raw_recordings.csv\"\n",
    "        link = \"http://www.stat.cmu.edu/larry/all-of-statistics/=data/nerve.dat\"\n",
    "        csv_path = \"./emo_recordings.csv\"\n",
    "        \n",
    "        #if os.path.exists(csv_path) == True:\n",
    "        #    return pd.read_csv(csv_path)\n",
    "        try:\n",
    "            if os.path.exists(csv_path) == True:\n",
    "                with urllib.request.urlopen(csv_path) as response:\n",
    "                    self.html = response.read()\n",
    "                    if response.reason == 'OK':\n",
    "                        print ('successful')\n",
    "                \n",
    "        except urllib.error.URLError as e:\n",
    "            if hasattr(e, 'reason'):\n",
    "                print (e.reason)\n",
    "        except urllib.error.HTTPError as e:\n",
    "            if hasattr(e, 'code'):\n",
    "                print (e.code) \n",
    "        else:\n",
    "            print (response.status)\n",
    "            print (response.reason)\n",
    "            \n",
    "            \n",
    "        \"\"\" \n",
    "      fp = urlopen(link)#urlopen(link)\n",
    "        data = fp.read()   \n",
    "        self.eeg_raw_Data = data\n",
    "    #eeg_raw_Data = requests.get(go_to)\n",
    "    #with open('nerve.dat', 'r') as eeg_raw_Data:\n",
    "        \"\"\"            \n",
    "            \n",
    "            \n",
    "        #dafa = bytearray(data).hex()    \n",
    "    #def __repr__(self):\n",
    "        #return 'Neural_Data(*{!r})'.format(self.h    def __init__ (self, *csv_path):\n",
    "        self.csv_path = \"./emo_recordings.csv\"\n",
    "        if os.self.csv_path.exists(csv_path) == True:\n",
    "            try:\n",
    "                data=pd.read_csv(self.csv_path)\n",
    "                print(pd.read_csv(self.csv_path))\n",
    "\n",
    "            except urllib.error.URLError as e:\n",
    "                if hasattr(e, 'reason'):\n",
    "                    print (e.reason)\n",
    "            except urllib.error.HTTPError as e:\n",
    "                if hasattr(e, 'code'):\n",
    "                    print (e.code) \n",
    "            else:\n",
    "                print (response.status)\n",
    "                print (response.reason)tml)\n",
    "        #pass\n",
    "        #return 'Neural_Data(*{!r})'.format(self.eeg_raw_Data)\n",
    "    #dafa = data.split('\\t')\n",
    "    #eeg_raw_Data.close()\n",
    "        #print (self.html) \n",
    "\"\"\"\n",
    "     def load_neural_data(path=csv_path):\n",
    "    '''Returns the pandas dataframe'''\n",
    "\n",
    "    if os.path.exists(csv_path) == True:\n",
    "        return pd.read_csv(csv_path)\n",
    "\n",
    "    else:\n",
    "        print(\"No file to read from\")   \n",
    "\"\"\""
   ]
  },
  {
   "cell_type": "code",
   "execution_count": 13,
   "metadata": {
    "collapsed": false
   },
   "outputs": [
    {
     "ename": "ValueError",
     "evalue": "unknown url type: './emo_recordings.csv'",
     "output_type": "error",
     "traceback": [
      "\u001b[0;31m---------------------------------------------------------------------------\u001b[0m",
      "\u001b[0;31mValueError\u001b[0m                                Traceback (most recent call last)",
      "\u001b[0;32m<ipython-input-13-32fa26b76c59>\u001b[0m in \u001b[0;36m<module>\u001b[0;34m()\u001b[0m\n\u001b[1;32m      1\u001b[0m \u001b[0;34m\u001b[0m\u001b[0m\n\u001b[0;32m----> 2\u001b[0;31m \u001b[0mNeural_Data\u001b[0m\u001b[0;34m(\u001b[0m\u001b[0;34m)\u001b[0m\u001b[0;34m\u001b[0m\u001b[0m\n\u001b[0m",
      "\u001b[0;32m<ipython-input-12-36f8e7ee238d>\u001b[0m in \u001b[0;36m__init__\u001b[0;34m(self, *html)\u001b[0m\n\u001b[1;32m     15\u001b[0m         \u001b[0;32mtry\u001b[0m\u001b[0;34m:\u001b[0m\u001b[0;34m\u001b[0m\u001b[0m\n\u001b[1;32m     16\u001b[0m             \u001b[0;32mif\u001b[0m \u001b[0mos\u001b[0m\u001b[0;34m.\u001b[0m\u001b[0mpath\u001b[0m\u001b[0;34m.\u001b[0m\u001b[0mexists\u001b[0m\u001b[0;34m(\u001b[0m\u001b[0mcsv_path\u001b[0m\u001b[0;34m)\u001b[0m \u001b[0;34m==\u001b[0m \u001b[0;32mTrue\u001b[0m\u001b[0;34m:\u001b[0m\u001b[0;34m\u001b[0m\u001b[0m\n\u001b[0;32m---> 17\u001b[0;31m                 \u001b[0;32mwith\u001b[0m \u001b[0murllib\u001b[0m\u001b[0;34m.\u001b[0m\u001b[0mrequest\u001b[0m\u001b[0;34m.\u001b[0m\u001b[0murlopen\u001b[0m\u001b[0;34m(\u001b[0m\u001b[0mcsv_path\u001b[0m\u001b[0;34m)\u001b[0m \u001b[0;32mas\u001b[0m \u001b[0mresponse\u001b[0m\u001b[0;34m:\u001b[0m\u001b[0;34m\u001b[0m\u001b[0m\n\u001b[0m\u001b[1;32m     18\u001b[0m                     \u001b[0mself\u001b[0m\u001b[0;34m.\u001b[0m\u001b[0mhtml\u001b[0m \u001b[0;34m=\u001b[0m \u001b[0mresponse\u001b[0m\u001b[0;34m.\u001b[0m\u001b[0mread\u001b[0m\u001b[0;34m(\u001b[0m\u001b[0;34m)\u001b[0m\u001b[0;34m\u001b[0m\u001b[0m\n\u001b[1;32m     19\u001b[0m                     \u001b[0;32mif\u001b[0m \u001b[0mresponse\u001b[0m\u001b[0;34m.\u001b[0m\u001b[0mreason\u001b[0m \u001b[0;34m==\u001b[0m \u001b[0;34m'OK'\u001b[0m\u001b[0;34m:\u001b[0m\u001b[0;34m\u001b[0m\u001b[0m\n",
      "\u001b[0;32m/home/smart/anaconda3/lib/python3.6/urllib/request.py\u001b[0m in \u001b[0;36murlopen\u001b[0;34m(url, data, timeout, cafile, capath, cadefault, context)\u001b[0m\n\u001b[1;32m    221\u001b[0m     \u001b[0;32melse\u001b[0m\u001b[0;34m:\u001b[0m\u001b[0;34m\u001b[0m\u001b[0m\n\u001b[1;32m    222\u001b[0m         \u001b[0mopener\u001b[0m \u001b[0;34m=\u001b[0m \u001b[0m_opener\u001b[0m\u001b[0;34m\u001b[0m\u001b[0m\n\u001b[0;32m--> 223\u001b[0;31m     \u001b[0;32mreturn\u001b[0m \u001b[0mopener\u001b[0m\u001b[0;34m.\u001b[0m\u001b[0mopen\u001b[0m\u001b[0;34m(\u001b[0m\u001b[0murl\u001b[0m\u001b[0;34m,\u001b[0m \u001b[0mdata\u001b[0m\u001b[0;34m,\u001b[0m \u001b[0mtimeout\u001b[0m\u001b[0;34m)\u001b[0m\u001b[0;34m\u001b[0m\u001b[0m\n\u001b[0m\u001b[1;32m    224\u001b[0m \u001b[0;34m\u001b[0m\u001b[0m\n\u001b[1;32m    225\u001b[0m \u001b[0;32mdef\u001b[0m \u001b[0minstall_opener\u001b[0m\u001b[0;34m(\u001b[0m\u001b[0mopener\u001b[0m\u001b[0;34m)\u001b[0m\u001b[0;34m:\u001b[0m\u001b[0;34m\u001b[0m\u001b[0m\n",
      "\u001b[0;32m/home/smart/anaconda3/lib/python3.6/urllib/request.py\u001b[0m in \u001b[0;36mopen\u001b[0;34m(self, fullurl, data, timeout)\u001b[0m\n\u001b[1;32m    509\u001b[0m         \u001b[0;31m# accept a URL or a Request object\u001b[0m\u001b[0;34m\u001b[0m\u001b[0;34m\u001b[0m\u001b[0m\n\u001b[1;32m    510\u001b[0m         \u001b[0;32mif\u001b[0m \u001b[0misinstance\u001b[0m\u001b[0;34m(\u001b[0m\u001b[0mfullurl\u001b[0m\u001b[0;34m,\u001b[0m \u001b[0mstr\u001b[0m\u001b[0;34m)\u001b[0m\u001b[0;34m:\u001b[0m\u001b[0;34m\u001b[0m\u001b[0m\n\u001b[0;32m--> 511\u001b[0;31m             \u001b[0mreq\u001b[0m \u001b[0;34m=\u001b[0m \u001b[0mRequest\u001b[0m\u001b[0;34m(\u001b[0m\u001b[0mfullurl\u001b[0m\u001b[0;34m,\u001b[0m \u001b[0mdata\u001b[0m\u001b[0;34m)\u001b[0m\u001b[0;34m\u001b[0m\u001b[0m\n\u001b[0m\u001b[1;32m    512\u001b[0m         \u001b[0;32melse\u001b[0m\u001b[0;34m:\u001b[0m\u001b[0;34m\u001b[0m\u001b[0m\n\u001b[1;32m    513\u001b[0m             \u001b[0mreq\u001b[0m \u001b[0;34m=\u001b[0m \u001b[0mfullurl\u001b[0m\u001b[0;34m\u001b[0m\u001b[0m\n",
      "\u001b[0;32m/home/smart/anaconda3/lib/python3.6/urllib/request.py\u001b[0m in \u001b[0;36m__init__\u001b[0;34m(self, url, data, headers, origin_req_host, unverifiable, method)\u001b[0m\n\u001b[1;32m    327\u001b[0m                  \u001b[0morigin_req_host\u001b[0m\u001b[0;34m=\u001b[0m\u001b[0;32mNone\u001b[0m\u001b[0;34m,\u001b[0m \u001b[0munverifiable\u001b[0m\u001b[0;34m=\u001b[0m\u001b[0;32mFalse\u001b[0m\u001b[0;34m,\u001b[0m\u001b[0;34m\u001b[0m\u001b[0m\n\u001b[1;32m    328\u001b[0m                  method=None):\n\u001b[0;32m--> 329\u001b[0;31m         \u001b[0mself\u001b[0m\u001b[0;34m.\u001b[0m\u001b[0mfull_url\u001b[0m \u001b[0;34m=\u001b[0m \u001b[0murl\u001b[0m\u001b[0;34m\u001b[0m\u001b[0m\n\u001b[0m\u001b[1;32m    330\u001b[0m         \u001b[0mself\u001b[0m\u001b[0;34m.\u001b[0m\u001b[0mheaders\u001b[0m \u001b[0;34m=\u001b[0m \u001b[0;34m{\u001b[0m\u001b[0;34m}\u001b[0m\u001b[0;34m\u001b[0m\u001b[0m\n\u001b[1;32m    331\u001b[0m         \u001b[0mself\u001b[0m\u001b[0;34m.\u001b[0m\u001b[0munredirected_hdrs\u001b[0m \u001b[0;34m=\u001b[0m \u001b[0;34m{\u001b[0m\u001b[0;34m}\u001b[0m\u001b[0;34m\u001b[0m\u001b[0m\n",
      "\u001b[0;32m/home/smart/anaconda3/lib/python3.6/urllib/request.py\u001b[0m in \u001b[0;36mfull_url\u001b[0;34m(self, url)\u001b[0m\n\u001b[1;32m    353\u001b[0m         \u001b[0mself\u001b[0m\u001b[0;34m.\u001b[0m\u001b[0m_full_url\u001b[0m \u001b[0;34m=\u001b[0m \u001b[0munwrap\u001b[0m\u001b[0;34m(\u001b[0m\u001b[0murl\u001b[0m\u001b[0;34m)\u001b[0m\u001b[0;34m\u001b[0m\u001b[0m\n\u001b[1;32m    354\u001b[0m         \u001b[0mself\u001b[0m\u001b[0;34m.\u001b[0m\u001b[0m_full_url\u001b[0m\u001b[0;34m,\u001b[0m \u001b[0mself\u001b[0m\u001b[0;34m.\u001b[0m\u001b[0mfragment\u001b[0m \u001b[0;34m=\u001b[0m \u001b[0msplittag\u001b[0m\u001b[0;34m(\u001b[0m\u001b[0mself\u001b[0m\u001b[0;34m.\u001b[0m\u001b[0m_full_url\u001b[0m\u001b[0;34m)\u001b[0m\u001b[0;34m\u001b[0m\u001b[0m\n\u001b[0;32m--> 355\u001b[0;31m         \u001b[0mself\u001b[0m\u001b[0;34m.\u001b[0m\u001b[0m_parse\u001b[0m\u001b[0;34m(\u001b[0m\u001b[0;34m)\u001b[0m\u001b[0;34m\u001b[0m\u001b[0m\n\u001b[0m\u001b[1;32m    356\u001b[0m \u001b[0;34m\u001b[0m\u001b[0m\n\u001b[1;32m    357\u001b[0m     \u001b[0;34m@\u001b[0m\u001b[0mfull_url\u001b[0m\u001b[0;34m.\u001b[0m\u001b[0mdeleter\u001b[0m\u001b[0;34m\u001b[0m\u001b[0m\n",
      "\u001b[0;32m/home/smart/anaconda3/lib/python3.6/urllib/request.py\u001b[0m in \u001b[0;36m_parse\u001b[0;34m(self)\u001b[0m\n\u001b[1;32m    382\u001b[0m         \u001b[0mself\u001b[0m\u001b[0;34m.\u001b[0m\u001b[0mtype\u001b[0m\u001b[0;34m,\u001b[0m \u001b[0mrest\u001b[0m \u001b[0;34m=\u001b[0m \u001b[0msplittype\u001b[0m\u001b[0;34m(\u001b[0m\u001b[0mself\u001b[0m\u001b[0;34m.\u001b[0m\u001b[0m_full_url\u001b[0m\u001b[0;34m)\u001b[0m\u001b[0;34m\u001b[0m\u001b[0m\n\u001b[1;32m    383\u001b[0m         \u001b[0;32mif\u001b[0m \u001b[0mself\u001b[0m\u001b[0;34m.\u001b[0m\u001b[0mtype\u001b[0m \u001b[0;32mis\u001b[0m \u001b[0;32mNone\u001b[0m\u001b[0;34m:\u001b[0m\u001b[0;34m\u001b[0m\u001b[0m\n\u001b[0;32m--> 384\u001b[0;31m             \u001b[0;32mraise\u001b[0m \u001b[0mValueError\u001b[0m\u001b[0;34m(\u001b[0m\u001b[0;34m\"unknown url type: %r\"\u001b[0m \u001b[0;34m%\u001b[0m \u001b[0mself\u001b[0m\u001b[0;34m.\u001b[0m\u001b[0mfull_url\u001b[0m\u001b[0;34m)\u001b[0m\u001b[0;34m\u001b[0m\u001b[0m\n\u001b[0m\u001b[1;32m    385\u001b[0m         \u001b[0mself\u001b[0m\u001b[0;34m.\u001b[0m\u001b[0mhost\u001b[0m\u001b[0;34m,\u001b[0m \u001b[0mself\u001b[0m\u001b[0;34m.\u001b[0m\u001b[0mselector\u001b[0m \u001b[0;34m=\u001b[0m \u001b[0msplithost\u001b[0m\u001b[0;34m(\u001b[0m\u001b[0mrest\u001b[0m\u001b[0;34m)\u001b[0m\u001b[0;34m\u001b[0m\u001b[0m\n\u001b[1;32m    386\u001b[0m         \u001b[0;32mif\u001b[0m \u001b[0mself\u001b[0m\u001b[0;34m.\u001b[0m\u001b[0mhost\u001b[0m\u001b[0;34m:\u001b[0m\u001b[0;34m\u001b[0m\u001b[0m\n",
      "\u001b[0;31mValueError\u001b[0m: unknown url type: './emo_recordings.csv'"
     ]
    }
   ],
   "source": [
    "\n",
    "Neural_Data()\n"
   ]
  },
  {
   "cell_type": "code",
   "execution_count": 3,
   "metadata": {
    "collapsed": false
   },
   "outputs": [
    {
     "ename": "TypeError",
     "evalue": "__init__() should return None, not 'DataFrame'",
     "output_type": "error",
     "traceback": [
      "\u001b[0;31m---------------------------------------------------------------------------\u001b[0m",
      "\u001b[0;31mTypeError\u001b[0m                                 Traceback (most recent call last)",
      "\u001b[0;32m<ipython-input-3-cb0fc1e84097>\u001b[0m in \u001b[0;36m<module>\u001b[0;34m()\u001b[0m\n\u001b[1;32m     21\u001b[0m             \u001b[0mprint\u001b[0m \u001b[0;34m(\u001b[0m\u001b[0;34m\"/tIncorrect path\"\u001b[0m\u001b[0;34m)\u001b[0m\u001b[0;34m\u001b[0m\u001b[0m\n\u001b[1;32m     22\u001b[0m \u001b[0;34m\u001b[0m\u001b[0m\n\u001b[0;32m---> 23\u001b[0;31m \u001b[0mNeural_Data\u001b[0m\u001b[0;34m(\u001b[0m\u001b[0;34m)\u001b[0m\u001b[0;34m\u001b[0m\u001b[0m\n\u001b[0m",
      "\u001b[0;31mTypeError\u001b[0m: __init__() should return None, not 'DataFrame'"
     ]
    }
   ],
   "source": [
    "from urllib import request\n",
    "import urllib.request\n",
    "import os, sys\n",
    "import pandas as pd\n",
    "\n",
    "class Neural_Data(object):\n",
    "\n",
    "    def __init__(self, *csv_path):\n",
    "        self.csv_path = \"./emo_recordings.csv\"\n",
    "        if os.path.exists(self.csv_path) == True:\n",
    "            try:\n",
    "                self.csv_results = pd.read_csv(self.csv_path, skiprows = True, names = ['F3', 'F4', 'F7', 'FC6', 'F7', 'F8', 'T7', 'P8', 'FC', '5', 'AF4', '02', '01', 'AF3'] )\n",
    "                return(self.csv_results)\n",
    "\n",
    "            except:\n",
    "                print(\"SORRY!!!\"/n)\n",
    "                print(\"File EMPTY\")\n",
    "\n",
    "        else:\n",
    "            print (\"ERROR:\")\n",
    "            print (\"/tIncorrect path\")  \n",
    " \n",
    "Neural_Data()\n"
   ]
  },
  {
   "cell_type": "code",
   "execution_count": 5,
   "metadata": {
    "collapsed": false
   },
   "outputs": [],
   "source": [
    "from urllib import request\n",
    "import urllib.request\n",
    "import os, sys\n",
    "import pandas as pd\n",
    "\n",
    "class Neural_Data(object):\n",
    "\n",
    "    def mo (self, *csv_path):\n",
    "        self.csv_path = \"./emo_recordings.csv\"\n",
    "        if os.path.exists(self.csv_path) == True:\n",
    "            try:\n",
    "                results = pd.read_csv(self.csv_path, skiprows = True, names = ['F3', 'F4', 'F7', 'FC6', 'F7', 'F8', 'T7', 'P8', 'FC', '5', 'AF4', '02', '01', 'AF3'] )\n",
    "                print(results)\n",
    "\n",
    "            except:\n",
    "                print(\"SORRY!!!\"/n)\n",
    "                print(\"File EMPTY\")\n",
    "\n",
    "        else:\n",
    "            print (\"ERROR:\")\n",
    "            print (\"/tIncorrect path\")  \n",
    "        return results\n",
    "        \n",
    "motiv_dataframe = Neural_Data()\n"
   ]
  },
  {
   "cell_type": "code",
   "execution_count": 2,
   "metadata": {
    "collapsed": false
   },
   "outputs": [
    {
     "data": {
      "text/plain": [
       "<__main__.Neural_Data at 0x7fb972795be0>"
      ]
     },
     "execution_count": 2,
     "metadata": {},
     "output_type": "execute_result"
    }
   ],
   "source": [
    "Neural_Data()"
   ]
  },
  {
   "cell_type": "code",
   "execution_count": 24,
   "metadata": {
    "collapsed": false
   },
   "outputs": [
    {
     "name": "stdout",
     "output_type": "stream",
     "text": [
      "        F3    F4    F7   FC6  F7.1    F8    T7    P8    FC     5   AF4   02  \\\n",
      "0        0     0     0     0     0     0     0     0     0     0     0    0   \n",
      "1        0     0     0     0     0     0     0     0     0     0     0    0   \n",
      "2     2159  3886 -3051  4997 -4561 -5575  7341  -737 -3318 -3249   388  -86   \n",
      "3     2159  3886 -3051  4997 -4561 -5575  7341  -737 -3318 -3249   388  -86   \n",
      "4     5169 -3431  6597  4547  1847  3425  7238  1476  5343  7788 -7326  145   \n",
      "5     5169 -3431  6597  4547  1847  3425  7238  1476  5343  7788 -7326  145   \n",
      "6     2475 -5265  7333 -2893  5566 -6095  1821  7708  7047 -4092 -1360  -79   \n",
      "7     2475 -5265  7333 -2893  5566 -6095  1821  7708  7047 -4092 -1360  -79   \n",
      "8     6069 -4812  7864  4204  6542 -3105  3994 -2002 -1102  1606 -3283   92   \n",
      "9     6069 -4812  7864  4204  6542 -3105  3994 -2002 -1102  1606 -3283   92   \n",
      "10    4704  6026 -5427  -197  -248 -5820  7423 -1370  3727 -5273  4815   31   \n",
      "11    4704  6026 -5427  -197  -248 -5820  7423 -1370  3727 -5273  4815   31   \n",
      "12   -3431  7744  3343  1532  2605  2967 -2679  6984  6867  5248 -3769  100   \n",
      "13   -3431  7744  3343  1532  2605  2967 -2679  6984  6867  5248 -3769  100   \n",
      "14   -8004 -5765 -1433  7943   211 -5065 -2296  6476 -7388  1765 -5950    5   \n",
      "15   -8004 -5765 -1433  7943   211 -5065 -2296  6476 -7388  1765 -5950    5   \n",
      "16   -4228  1723  1084  1953   629 -1882 -1309 -2292  2723   657 -4988  -10   \n",
      "17   -4228  1723  1084  1953   629 -1882 -1309 -2292  2723   657 -4988  -10   \n",
      "18   -6198 -5988  6154 -7396   962 -5844 -2702  6126  5858  4911 -5676   69   \n",
      "19   -6198 -5988  6154 -7396   962 -5844 -2702  6126  5858  4911 -5676   69   \n",
      "20   -5961  2759 -5379  2952  5487 -6897 -4022 -3210 -1748  3233 -7632  -59   \n",
      "21   -5961  2759 -5379  2952  5487 -6897 -4022 -3210 -1748  3233 -7632  -59   \n",
      "22    2895  3697  5014 -3581  5248  5495 -5074 -7706  7800  6612  3109  -99   \n",
      "23    2895  3697  5014 -3581  5248  5495 -5074 -7706  7800  6612  3109  -99   \n",
      "24    3695 -5674 -3597 -4229  2727  1468  2524  7654 -3656  2905  4747  111   \n",
      "25    3695 -5674 -3597 -4229  2727  1468  2524  7654 -3656  2905  4747  111   \n",
      "26   -5095  6683  3664 -4418  -426  5219 -4982  7380  -390 -7468  3895  101   \n",
      "27   -5095  6683  3664 -4418  -426  5219 -4982  7380  -390 -7468  3895  101   \n",
      "28   -3704 -5833 -6581 -6242  -918 -3974  5115 -6761  8045  7895 -3869  123   \n",
      "29   -3704 -5833 -6581 -6242  -918 -3974  5115 -6761  8045  7895 -3869  123   \n",
      "...    ...   ...   ...   ...   ...   ...   ...   ...   ...   ...   ...  ...   \n",
      "3010  1182  5663 -7960  7948   460 -5444  1068 -5807  7630  4639 -3362  120   \n",
      "3011  1182  5663 -7960  7948   460 -5444  1068 -5807  7630  4639 -3362  120   \n",
      "3012 -2478  4318 -4561  7507  6220 -3159  1789  7014   785  1683 -6539   13   \n",
      "3013 -2478  4318 -4561  7507  6220 -3159  1789  7014   785  1683 -6539   13   \n",
      "3014  8034  3716 -4426  7681  6829  7581 -3976  2159  -110  4162  2541   97   \n",
      "3015  8034  3716 -4426  7681  6829  7581 -3976  2159  -110  4162  2541   97   \n",
      "3016 -2085 -1606  6918  2898  6802 -2796  4948   532  6605 -4728 -6183  111   \n",
      "3017 -2085 -1606  6918  2898  6802 -2796  4948   532  6605 -4728 -6183  111   \n",
      "3018  -553  4955 -5647  5646  2951  2510  7707 -4168 -7026  5804  2744  -93   \n",
      "3019  -553  4955 -5647  5646  2951  2510  7707 -4168 -7026  5804  2744  -93   \n",
      "3020   616 -4254  6675 -5768 -7720 -7589  6228  7962   964  5225 -5257  -17   \n",
      "3021   616 -4254  6675 -5768 -7720 -7589  6228  7962   964  5225 -5257  -17   \n",
      "3022  -953 -6811 -8047  5904 -7985 -5348  7350  4877 -6584 -6730  4236  117   \n",
      "3023  -953 -6811 -8047  5904 -7985 -5348  7350  4877 -6584 -6730  4236  117   \n",
      "3024 -2606  2480  6612  4787  1601  7108 -3738  -834  3968 -6341 -4683  -53   \n",
      "3025 -2606  2480  6612  4787  1601  7108 -3738  -834  3968 -6341 -4683  -53   \n",
      "3026  8105 -3711  6207  2361   747 -7017    57  -611 -4286  -449 -5221  -48   \n",
      "3027  8105 -3711  6207  2361   747 -7017    57  -611 -4286  -449 -5221  -48   \n",
      "3028 -5179  3903  4485  -199 -3271  5177 -7525 -4705 -3165 -3063 -2730  -76   \n",
      "3029 -5179  3903  4485  -199 -3271  5177 -7525 -4705 -3165 -3063 -2730  -76   \n",
      "3030 -7795  7301  -809  1698 -1376  3236  3649 -2046 -3903 -3301 -6123  -80   \n",
      "3031 -7795  7301  -809  1698 -1376  3236  3649 -2046 -3903 -3301 -6123  -80   \n",
      "3032 -4468  -305 -2811  3996 -4763 -7952  6888  4828 -1876 -2386 -5512  -92   \n",
      "3033 -4468  -305 -2811  3996 -4763 -7952  6888  4828 -1876 -2386 -5512  -92   \n",
      "3034   659   745 -4470 -1447   -35  4140  1564 -6288  6576  4482  1473  109   \n",
      "3035   659   745 -4470 -1447   -35  4140  1564 -6288  6576  4482  1473  109   \n",
      "3036 -7592  4732 -5643    64 -2949 -5776 -2251  5759 -5326 -7061 -1607  148   \n",
      "3037 -7592  4732 -5643    64 -2949 -5776 -2251  5759 -5326 -7061 -1607  148   \n",
      "3038  2709  7010 -2760 -5632   953  -472  7910 -2280   260  4012  3560  115   \n",
      "3039  2709  7010 -2760 -5632   953  -472  7910 -2280   260  4012  3560  115   \n",
      "\n",
      "        01   AF3  \n",
      "0        0     0  \n",
      "1        0     0  \n",
      "2     7625  1309  \n",
      "3     7625  1309  \n",
      "4    -1470 -5063  \n",
      "5    -1470 -5063  \n",
      "6    -3250  3071  \n",
      "7    -3250  3071  \n",
      "8    -1937  2571  \n",
      "9    -1937  2571  \n",
      "10    5824  5202  \n",
      "11    5824  5202  \n",
      "12   -4990 -6692  \n",
      "13   -4990 -6692  \n",
      "14   -3954  7503  \n",
      "15   -3954  7503  \n",
      "16    7412  1333  \n",
      "17    7412  1333  \n",
      "18   -3457   -76  \n",
      "19   -3457   -76  \n",
      "20   -6228 -1070  \n",
      "21   -6228 -1070  \n",
      "22   -6069  2146  \n",
      "23   -6069  2146  \n",
      "24   -5343  2728  \n",
      "25   -5343  2728  \n",
      "26    -340 -5011  \n",
      "27    -340 -5011  \n",
      "28    4652  4382  \n",
      "29    4652  4382  \n",
      "...    ...   ...  \n",
      "3010 -4641  2118  \n",
      "3011 -4641  2118  \n",
      "3012 -6954 -7611  \n",
      "3013 -6954 -7611  \n",
      "3014  3616 -5731  \n",
      "3015  3616 -5731  \n",
      "3016 -1521  7719  \n",
      "3017 -1521  7719  \n",
      "3018 -7245 -1507  \n",
      "3019 -7245 -1507  \n",
      "3020  5443 -2539  \n",
      "3021  5443 -2539  \n",
      "3022  6243  -379  \n",
      "3023  6243  -379  \n",
      "3024 -6642  8191  \n",
      "3025 -6642  8191  \n",
      "3026   855  6231  \n",
      "3027   855  6231  \n",
      "3028  2687 -2432  \n",
      "3029  2687 -2432  \n",
      "3030  -710 -5093  \n",
      "3031  -710 -5093  \n",
      "3032   255  2425  \n",
      "3033   255  2425  \n",
      "3034 -6031 -7796  \n",
      "3035 -6031 -7796  \n",
      "3036  6197 -6503  \n",
      "3037  6197 -6503  \n",
      "3038  1116  -381  \n",
      "3039  1116  -381  \n",
      "\n",
      "[3040 rows x 14 columns]\n"
     ]
    },
    {
     "name": "stderr",
     "output_type": "stream",
     "text": [
      "/home/smart/anaconda3/lib/python3.6/site-packages/matplotlib/pyplot.py:3430: MatplotlibDeprecationWarning: The 'hold' keyword argument is deprecated since 2.0.\n",
      "  mplDeprecation)\n"
     ]
    },
    {
     "ename": "ValueError",
     "evalue": "x and y must be the same size",
     "output_type": "error",
     "traceback": [
      "\u001b[0;31m---------------------------------------------------------------------------\u001b[0m",
      "\u001b[0;31mValueError\u001b[0m                                Traceback (most recent call last)",
      "\u001b[0;32m<ipython-input-24-e53a6063314a>\u001b[0m in \u001b[0;36m<module>\u001b[0;34m()\u001b[0m\n\u001b[1;32m     33\u001b[0m \u001b[0mcsv_path\u001b[0m \u001b[0;34m=\u001b[0m \u001b[0;34m\"./emo_recordings.csv\"\u001b[0m\u001b[0;34m\u001b[0m\u001b[0m\n\u001b[1;32m     34\u001b[0m \u001b[0;34m\u001b[0m\u001b[0m\n\u001b[0;32m---> 35\u001b[0;31m \u001b[0mgo\u001b[0m \u001b[0;34m=\u001b[0m \u001b[0mdata_cleaning\u001b[0m\u001b[0;34m(\u001b[0m\u001b[0mcsv_path\u001b[0m\u001b[0;34m)\u001b[0m\u001b[0;34m\u001b[0m\u001b[0m\n\u001b[0m\u001b[1;32m     36\u001b[0m \u001b[0;34m\u001b[0m\u001b[0m\n",
      "\u001b[0;32m<ipython-input-24-e53a6063314a>\u001b[0m in \u001b[0;36mdata_cleaning\u001b[0;34m(csv_path)\u001b[0m\n\u001b[1;32m     27\u001b[0m         \u001b[0mplt\u001b[0m\u001b[0;34m.\u001b[0m\u001b[0mylim\u001b[0m\u001b[0;34m(\u001b[0m\u001b[0;36m0\u001b[0m\u001b[0;34m,\u001b[0m \u001b[0;36m1000\u001b[0m\u001b[0;34m)\u001b[0m\u001b[0;34m\u001b[0m\u001b[0m\n\u001b[1;32m     28\u001b[0m         \u001b[0mplt\u001b[0m\u001b[0;34m.\u001b[0m\u001b[0mxlim\u001b[0m\u001b[0;34m(\u001b[0m\u001b[0;36m0\u001b[0m\u001b[0;34m,\u001b[0m \u001b[0;36m1000\u001b[0m\u001b[0;34m)\u001b[0m\u001b[0;34m\u001b[0m\u001b[0m\n\u001b[0;32m---> 29\u001b[0;31m         \u001b[0mplt\u001b[0m\u001b[0;34m.\u001b[0m\u001b[0mscatter\u001b[0m\u001b[0;34m(\u001b[0m\u001b[0mx\u001b[0m\u001b[0;34m,\u001b[0m \u001b[0my\u001b[0m\u001b[0;34m,\u001b[0m \u001b[0malpha\u001b[0m \u001b[0;34m=\u001b[0m \u001b[0;36m0.5\u001b[0m\u001b[0;34m,\u001b[0m \u001b[0mhold\u001b[0m \u001b[0;34m=\u001b[0m \u001b[0;32mTrue\u001b[0m\u001b[0;34m)\u001b[0m\u001b[0;34m\u001b[0m\u001b[0m\n\u001b[0m\u001b[1;32m     30\u001b[0m         \u001b[0mplt\u001b[0m\u001b[0;34m.\u001b[0m\u001b[0mshow\u001b[0m\u001b[0;34m(\u001b[0m\u001b[0;34m)\u001b[0m\u001b[0;34m\u001b[0m\u001b[0m\n\u001b[1;32m     31\u001b[0m \u001b[0;34m\u001b[0m\u001b[0m\n",
      "\u001b[0;32m/home/smart/anaconda3/lib/python3.6/site-packages/matplotlib/pyplot.py\u001b[0m in \u001b[0;36mscatter\u001b[0;34m(x, y, s, c, marker, cmap, norm, vmin, vmax, alpha, linewidths, verts, edgecolors, hold, data, **kwargs)\u001b[0m\n\u001b[1;32m   3433\u001b[0m                          \u001b[0mvmin\u001b[0m\u001b[0;34m=\u001b[0m\u001b[0mvmin\u001b[0m\u001b[0;34m,\u001b[0m \u001b[0mvmax\u001b[0m\u001b[0;34m=\u001b[0m\u001b[0mvmax\u001b[0m\u001b[0;34m,\u001b[0m \u001b[0malpha\u001b[0m\u001b[0;34m=\u001b[0m\u001b[0malpha\u001b[0m\u001b[0;34m,\u001b[0m\u001b[0;34m\u001b[0m\u001b[0m\n\u001b[1;32m   3434\u001b[0m                          \u001b[0mlinewidths\u001b[0m\u001b[0;34m=\u001b[0m\u001b[0mlinewidths\u001b[0m\u001b[0;34m,\u001b[0m \u001b[0mverts\u001b[0m\u001b[0;34m=\u001b[0m\u001b[0mverts\u001b[0m\u001b[0;34m,\u001b[0m\u001b[0;34m\u001b[0m\u001b[0m\n\u001b[0;32m-> 3435\u001b[0;31m                          edgecolors=edgecolors, data=data, **kwargs)\n\u001b[0m\u001b[1;32m   3436\u001b[0m     \u001b[0;32mfinally\u001b[0m\u001b[0;34m:\u001b[0m\u001b[0;34m\u001b[0m\u001b[0m\n\u001b[1;32m   3437\u001b[0m         \u001b[0max\u001b[0m\u001b[0;34m.\u001b[0m\u001b[0m_hold\u001b[0m \u001b[0;34m=\u001b[0m \u001b[0mwashold\u001b[0m\u001b[0;34m\u001b[0m\u001b[0m\n",
      "\u001b[0;32m/home/smart/anaconda3/lib/python3.6/site-packages/matplotlib/__init__.py\u001b[0m in \u001b[0;36minner\u001b[0;34m(ax, *args, **kwargs)\u001b[0m\n\u001b[1;32m   1890\u001b[0m                     warnings.warn(msg % (label_namer, func.__name__),\n\u001b[1;32m   1891\u001b[0m                                   RuntimeWarning, stacklevel=2)\n\u001b[0;32m-> 1892\u001b[0;31m             \u001b[0;32mreturn\u001b[0m \u001b[0mfunc\u001b[0m\u001b[0;34m(\u001b[0m\u001b[0max\u001b[0m\u001b[0;34m,\u001b[0m \u001b[0;34m*\u001b[0m\u001b[0margs\u001b[0m\u001b[0;34m,\u001b[0m \u001b[0;34m**\u001b[0m\u001b[0mkwargs\u001b[0m\u001b[0;34m)\u001b[0m\u001b[0;34m\u001b[0m\u001b[0m\n\u001b[0m\u001b[1;32m   1893\u001b[0m         \u001b[0mpre_doc\u001b[0m \u001b[0;34m=\u001b[0m \u001b[0minner\u001b[0m\u001b[0;34m.\u001b[0m\u001b[0m__doc__\u001b[0m\u001b[0;34m\u001b[0m\u001b[0m\n\u001b[1;32m   1894\u001b[0m         \u001b[0;32mif\u001b[0m \u001b[0mpre_doc\u001b[0m \u001b[0;32mis\u001b[0m \u001b[0;32mNone\u001b[0m\u001b[0;34m:\u001b[0m\u001b[0;34m\u001b[0m\u001b[0m\n",
      "\u001b[0;32m/home/smart/anaconda3/lib/python3.6/site-packages/matplotlib/axes/_axes.py\u001b[0m in \u001b[0;36mscatter\u001b[0;34m(self, x, y, s, c, marker, cmap, norm, vmin, vmax, alpha, linewidths, verts, edgecolors, **kwargs)\u001b[0m\n\u001b[1;32m   3956\u001b[0m         \u001b[0my\u001b[0m \u001b[0;34m=\u001b[0m \u001b[0mnp\u001b[0m\u001b[0;34m.\u001b[0m\u001b[0mma\u001b[0m\u001b[0;34m.\u001b[0m\u001b[0mravel\u001b[0m\u001b[0;34m(\u001b[0m\u001b[0my\u001b[0m\u001b[0;34m)\u001b[0m\u001b[0;34m\u001b[0m\u001b[0m\n\u001b[1;32m   3957\u001b[0m         \u001b[0;32mif\u001b[0m \u001b[0mx\u001b[0m\u001b[0;34m.\u001b[0m\u001b[0msize\u001b[0m \u001b[0;34m!=\u001b[0m \u001b[0my\u001b[0m\u001b[0;34m.\u001b[0m\u001b[0msize\u001b[0m\u001b[0;34m:\u001b[0m\u001b[0;34m\u001b[0m\u001b[0m\n\u001b[0;32m-> 3958\u001b[0;31m             \u001b[0;32mraise\u001b[0m \u001b[0mValueError\u001b[0m\u001b[0;34m(\u001b[0m\u001b[0;34m\"x and y must be the same size\"\u001b[0m\u001b[0;34m)\u001b[0m\u001b[0;34m\u001b[0m\u001b[0m\n\u001b[0m\u001b[1;32m   3959\u001b[0m \u001b[0;34m\u001b[0m\u001b[0m\n\u001b[1;32m   3960\u001b[0m         \u001b[0;32mif\u001b[0m \u001b[0ms\u001b[0m \u001b[0;32mis\u001b[0m \u001b[0;32mNone\u001b[0m\u001b[0;34m:\u001b[0m\u001b[0;34m\u001b[0m\u001b[0m\n",
      "\u001b[0;31mValueError\u001b[0m: x and y must be the same size"
     ]
    }
   ],
   "source": [
    "#accessing data\n",
    "import pandas as pd\n",
    "import os, sys\n",
    "\n",
    "def data_cleaning (csv_path):\n",
    "        csv_path = \"./emo_recordings.csv\"\n",
    "        if os.path.exists(csv_path) == True:\n",
    "            try:\n",
    "                csv_results = pd.read_csv(csv_path, skiprows = True, names = ['F3', 'F4', 'F7', 'FC6', 'F7', 'F8', 'T7', 'P8', 'FC', '5', 'AF4', '02', '01', 'AF3'] )\n",
    "                #return(csv_results)\n",
    "                print (csv_results)\n",
    "    \n",
    "            except:\n",
    "                print(\"SORRY!!!\")\n",
    "                print(\"path was not successful\")\n",
    "        \n",
    "    \n",
    "csv_path = \"./emo_recordings.csv\"\n",
    "                \n",
    "go = data_cleaning(csv_path)\n",
    "\n"
   ]
  },
  {
   "cell_type": "code",
   "execution_count": 26,
   "metadata": {
    "collapsed": false
   },
   "outputs": [
    {
     "ename": "NameError",
     "evalue": "name 'x' is not defined",
     "output_type": "error",
     "traceback": [
      "\u001b[0;31m---------------------------------------------------------------------------\u001b[0m",
      "\u001b[0;31mNameError\u001b[0m                                 Traceback (most recent call last)",
      "\u001b[0;32m<ipython-input-26-5519a3fe9af9>\u001b[0m in \u001b[0;36m<module>\u001b[0;34m()\u001b[0m\n\u001b[1;32m     16\u001b[0m     \u001b[0mplt\u001b[0m\u001b[0;34m.\u001b[0m\u001b[0mshow\u001b[0m\u001b[0;34m(\u001b[0m\u001b[0;34m)\u001b[0m\u001b[0;34m\u001b[0m\u001b[0m\n\u001b[1;32m     17\u001b[0m \u001b[0;34m\u001b[0m\u001b[0m\n\u001b[0;32m---> 18\u001b[0;31m \u001b[0mplot\u001b[0m\u001b[0;34m(\u001b[0m\u001b[0;34m)\u001b[0m\u001b[0;34m\u001b[0m\u001b[0m\n\u001b[0m",
      "\u001b[0;32m<ipython-input-26-5519a3fe9af9>\u001b[0m in \u001b[0;36mplot\u001b[0;34m()\u001b[0m\n\u001b[1;32m     13\u001b[0m     \u001b[0;31m#plt2.plot(Backward, 'b^-', label= 'Backward')\u001b[0m\u001b[0;34m\u001b[0m\u001b[0;34m\u001b[0m\u001b[0m\n\u001b[1;32m     14\u001b[0m \u001b[0;34m\u001b[0m\u001b[0m\n\u001b[0;32m---> 15\u001b[0;31m     \u001b[0mplt\u001b[0m\u001b[0;34m.\u001b[0m\u001b[0mscatter\u001b[0m\u001b[0;34m(\u001b[0m\u001b[0mx\u001b[0m\u001b[0;34m,\u001b[0m \u001b[0my\u001b[0m\u001b[0;34m,\u001b[0m \u001b[0malpha\u001b[0m \u001b[0;34m=\u001b[0m \u001b[0;36m0.5\u001b[0m\u001b[0;34m)\u001b[0m\u001b[0;34m\u001b[0m\u001b[0m\n\u001b[0m\u001b[1;32m     16\u001b[0m     \u001b[0mplt\u001b[0m\u001b[0;34m.\u001b[0m\u001b[0mshow\u001b[0m\u001b[0;34m(\u001b[0m\u001b[0;34m)\u001b[0m\u001b[0;34m\u001b[0m\u001b[0m\n\u001b[1;32m     17\u001b[0m \u001b[0;34m\u001b[0m\u001b[0m\n",
      "\u001b[0;31mNameError\u001b[0m: name 'x' is not defined"
     ]
    }
   ],
   "source": [
    "#data ploting\n",
    "import matplotlib.pyplot as plt\n",
    "import numpy as np\n",
    "import matplotlib\n",
    "\n",
    "\n",
    "def plot ():\n",
    "    \n",
    "    plt.title(\"Ploting Brain Signals\")\n",
    "    plt.grid(True)\n",
    "    #plt.plot(Forward, 'ro-', label = 'Forward')\n",
    "    #plt2 = plt.twinx()   \n",
    "    #plt2.plot(Backward, 'b^-', label= 'Backward')\n",
    "    \n",
    "    plt.scatter(x, y, alpha = 0.5)\n",
    "    plt.show()\n",
    "    \n",
    "plot()"
   ]
  },
  {
   "cell_type": "code",
   "execution_count": null,
   "metadata": {
    "collapsed": true
   },
   "outputs": [],
   "source": []
  }
 ],
 "metadata": {
  "kernelspec": {
   "display_name": "Python 3",
   "language": "python",
   "name": "python3"
  },
  "language_info": {
   "codemirror_mode": {
    "name": "ipython",
    "version": 3
   },
   "file_extension": ".py",
   "mimetype": "text/x-python",
   "name": "python",
   "nbconvert_exporter": "python",
   "pygments_lexer": "ipython3",
   "version": "3.6.0"
  }
 },
 "nbformat": 4,
 "nbformat_minor": 2
}
